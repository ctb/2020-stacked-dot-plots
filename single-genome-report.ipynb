{
 "cells": [
  {
   "cell_type": "code",
   "execution_count": 1,
   "metadata": {},
   "outputs": [],
   "source": [
    "%matplotlib inline"
   ]
  },
  {
   "cell_type": "code",
   "execution_count": 2,
   "metadata": {},
   "outputs": [],
   "source": [
    "import matplotlib.pyplot as plt\n",
    "\n",
    "import importlib\n",
    "import alignplot\n",
    "import pprint\n",
    "importlib.reload(alignplot)\n",
    "\n",
    "from alignplot import StackedDotPlot"
   ]
  },
  {
   "cell_type": "markdown",
   "metadata": {},
   "source": [
    "## another tara genome, this time with two contaminants"
   ]
  },
  {
   "cell_type": "code",
   "execution_count": 3,
   "metadata": {},
   "outputs": [],
   "source": [
    "#dotplot = StackedDotPlot('TARA_PSE_MAG_00132', ('GCA_001550135.1', 'GCA_001641615.1'), 'list.csv', './genomes')\n",
    "#dotplot.use_mashmap = True\n",
    "#x = dotplot()"
   ]
  },
  {
   "cell_type": "code",
   "execution_count": 4,
   "metadata": {},
   "outputs": [
    {
     "name": "stdout",
     "output_type": "stream",
     "text": [
      "['./genomes/TARA_ANW_MAG_00083.fa']\n",
      "found queryfile for TARA_ANW_MAG_00083: ./genomes/TARA_ANW_MAG_00083.fa\n",
      "found targetfile for GCA_002171995.1: ./genomes/GCA_002171995.1_ASM217199v1_genomic.fna.gz\n",
      "running nucmer & show-coords for ./genomes/GCA_002171995.1_ASM217199v1_genomic.fna.gz...\n",
      "...done! reading output from /var/folders/y6/s1r3q87933s6gjdrtmts1npc0000gq/T/tmpnop2gd8f.\n",
      "shared w/GCA_002171995.1: 348.5kb\n"
     ]
    },
    {
     "data": {
      "image/png": "[encoded data removed]",
      "text/plain": [
       "<Figure size 432x288 with 1 Axes>"
      ]
     },
     "metadata": {
      "needs_background": "light"
     },
     "output_type": "display_data"
    }
   ],
   "source": [
    "dotplot = StackedDotPlot('TARA_ANW_MAG_00083', ('GCA_002171995.1',), 'list.csv', './genomes')\n",
    "#dotplot.use_mashmap = True\n",
    "x = dotplot()"
   ]
  },
  {
   "cell_type": "code",
   "execution_count": 5,
   "metadata": {},
   "outputs": [
    {
     "name": "stdout",
     "output_type": "stream",
     "text": [
      "[(0.9992111489040059,\n",
      "  0.9998110355253211,\n",
      "  AlignedRegion(query='TARA_ANW_MAG_00083_000000000374', target='NHIK01000052.1', qstart=0.001, qend=5.292, tstart=5.424, tend=0.133, pident=99.94, qsize=5.292, tsize=5.292)),\n",
      " (0.9990611643740447,\n",
      "  0.999861053216618,\n",
      "  AlignedRegion(query='TARA_ANW_MAG_00083_000000000339', target='NHIK01000037.1', qstart=0.001, qend=7.197, tstart=0.026, tend=7.222, pident=99.92, qsize=7.197, tsize=7.197)),\n",
      " (0.9989716964171054,\n",
      "  0.9998715808398613,\n",
      "  AlignedRegion(query='TARA_ANW_MAG_00083_000000000217', target='NHIK01000083.1', qstart=1.119, qend=8.905, tstart=7.787, tend=0.001, pident=99.91, qsize=7.787, tsize=7.787))]\n",
      "[(0.9588268421052635,\n",
      "  0.9947368421052635,\n",
      "  AlignedRegion(query='TARA_ANW_MAG_00083_000000000307', target='NHIK01000015.1', qstart=2.522, qend=2.711, tstart=4.589, tend=4.782, pident=96.39, qsize=0.19, tsize=0.194)),\n",
      " (0.9443606249999988,\n",
      "  0.9937499999999988,\n",
      "  AlignedRegion(query='TARA_ANW_MAG_00083_000000000146', target='NHIK01000058.1', qstart=4.987, qend=5.146, tstart=0.381, tend=0.539, pident=95.03, qsize=0.16, tsize=0.159)),\n",
      " (0.8921544973544974,\n",
      "  0.9947089947089947,\n",
      "  AlignedRegion(query='TARA_ANW_MAG_00083_000000000237', target='NHIK01000147.1', qstart=0.001, qend=0.189, tstart=8.094, tend=8.286, pident=89.69, qsize=0.189, tsize=0.193))]\n"
     ]
    }
   ],
   "source": [
    "regions = list(dotplot.results.values())[0]\n",
    "\n",
    "sorted_regions = []\n",
    "for region in regions:\n",
    "    pident = region.pident\n",
    "    fident = pident / 100\n",
    "    f_match = (region.qend - region.qstart) / region.qsize\n",
    "    contig_ani = f_match * fident\n",
    "    sorted_regions.append((contig_ani, f_match, region))\n",
    "\n",
    "sorted_regions.sort(reverse=True)\n",
    "pprint.pprint(sorted_regions[:3])\n",
    "pprint.pprint(sorted_regions[-3:])"
   ]
  },
  {
   "cell_type": "code",
   "execution_count": 6,
   "metadata": {},
   "outputs": [
    {
     "name": "stdout",
     "output_type": "stream",
     "text": [
      "348.1 kb in contigs > 95% ANI, 348.5 kb total\n",
      "99.9% of shared sequence in contigs > 95% ANI\n"
     ]
    }
   ],
   "source": [
    "kb_above_95 = 0\n",
    "total_kb = 0\n",
    "for (contig_ani, _, region) in sorted_regions:\n",
    "    size = region.qend - region.qstart\n",
    "    if contig_ani >= .95:\n",
    "        kb_above_95 += size # note: uniqify\n",
    "    total_kb += size\n",
    "\n",
    "print(f'{kb_above_95:.1f} kb in contigs > 95% ANI, {total_kb:.1f} kb total')\n",
    "print(f'{kb_above_95/total_kb*100:.1f}% of shared sequence in contigs > 95% ANI')"
   ]
  },
  {
   "cell_type": "code",
   "execution_count": null,
   "metadata": {},
   "outputs": [],
   "source": []
  }
 ],
 "metadata": {
  "kernelspec": {
   "display_name": "Python (myenv)",
   "language": "python",
   "name": "myenv"
  },
  "language_info": {
   "codemirror_mode": {
    "name": "ipython",
    "version": 3
   },
   "file_extension": ".py",
   "mimetype": "text/x-python",
   "name": "python",
   "nbconvert_exporter": "python",
   "pygments_lexer": "ipython3",
   "version": "3.7.6"
  }
 },
 "nbformat": 4,
 "nbformat_minor": 4
}

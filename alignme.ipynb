{
 "cells": [
  {
   "cell_type": "code",
   "execution_count": 1,
   "metadata": {},
   "outputs": [
    {
     "ename": "SyntaxError",
     "evalue": "invalid syntax (alignplot.py, line 106)",
     "output_type": "error",
     "traceback": [
      "Traceback \u001b[0;36m(most recent call last)\u001b[0m:\n",
      "  File \u001b[1;32m\"/Users/t/miniconda3/envs/py37/lib/python3.7/site-packages/IPython/core/interactiveshell.py\"\u001b[0m, line \u001b[1;32m3331\u001b[0m, in \u001b[1;35mrun_code\u001b[0m\n    exec(code_obj, self.user_global_ns, self.user_ns)\n",
      "\u001b[0;36m  File \u001b[0;32m\"<ipython-input-1-2a799f99b1b4>\"\u001b[0;36m, line \u001b[0;32m13\u001b[0;36m, in \u001b[0;35m<module>\u001b[0;36m\u001b[0m\n\u001b[0;31m    import alignplot\u001b[0m\n",
      "\u001b[0;36m  File \u001b[0;32m\"/Users/t/dev/2020-stacked-dot-plots/alignplot.py\"\u001b[0;36m, line \u001b[0;32m106\u001b[0m\n\u001b[0;31m    assert name not in all_sizes:\u001b[0m\n\u001b[0m                                ^\u001b[0m\n\u001b[0;31mSyntaxError\u001b[0m\u001b[0;31m:\u001b[0m invalid syntax\n"
     ]
    }
   ],
   "source": [
    "%matplotlib inline\n",
    "\n",
    "import matplotlib.pyplot as plt\n",
    "import numpy\n",
    "from collections import defaultdict\n",
    "import importlib\n",
    "import pprint\n",
    "\n",
    "from interval import interval\n",
    "\n",
    "import screed\n",
    "\n",
    "import alignplot\n",
    "importlib.reload(alignplot)\n",
    "\n",
    "from alignplot import StackedDotPlot\n",
    "from alignplot import AlignmentDiagram\n",
    "\n",
    "import numpy as np\n",
    "\n",
    "import matplotlib.pyplot as plt\n",
    "import matplotlib\n",
    "from matplotlib.patches import Polygon\n",
    "from matplotlib.collections import PatchCollection"
   ]
  },
  {
   "cell_type": "code",
   "execution_count": null,
   "metadata": {},
   "outputs": [],
   "source": [
    "if 1:\n",
    "    dotplot = StackedDotPlot('GCA_003222275.1',\n",
    "                             ['GCA_003220225.1'],\n",
    "                             'list.csv', './genomes', use_mashmap=True)"
   ]
  },
  {
   "cell_type": "code",
   "execution_count": null,
   "metadata": {},
   "outputs": [],
   "source": [
    "_ = dotplot()"
   ]
  },
  {
   "cell_type": "code",
   "execution_count": null,
   "metadata": {},
   "outputs": [],
   "source": [
    "dotplot = StackedDotPlot('GCF_001683825.1', ('GCF_000181835.1',), 'list.csv', './genomes',)"
   ]
  },
  {
   "cell_type": "code",
   "execution_count": null,
   "metadata": {},
   "outputs": [],
   "source": [
    "import alignplot\n",
    "importlib.reload(alignplot)\n",
    "\n",
    "alignme = AlignmentDiagram(dotplot)\n",
    "alignme.calculate()\n",
    "fig = alignme.plot(use_labels=True)\n",
    "fig.set_size_inches(10,8)\n",
    "plt.savefig('/tmp/foo.png')"
   ]
  },
  {
   "cell_type": "code",
   "execution_count": null,
   "metadata": {},
   "outputs": [],
   "source": [
    "alignme.calculate(plot_all_contigs=True)\n",
    "fig = alignme.plot(use_labels=False)\n",
    "fig.set_size_inches(10,8)\n",
    "plt.savefig('/tmp/foo2.png')"
   ]
  },
  {
   "cell_type": "code",
   "execution_count": null,
   "metadata": {},
   "outputs": [],
   "source": []
  }
 ],
 "metadata": {
  "kernelspec": {
   "display_name": "Python (myenv)",
   "language": "python",
   "name": "myenv"
  },
  "language_info": {
   "codemirror_mode": {
    "name": "ipython",
    "version": 3
   },
   "file_extension": ".py",
   "mimetype": "text/x-python",
   "name": "python",
   "nbconvert_exporter": "python",
   "pygments_lexer": "ipython3",
   "version": "3.7.6"
  }
 },
 "nbformat": 4,
 "nbformat_minor": 4
}
